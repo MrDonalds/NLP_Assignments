{
 "cells": [
  {
   "cell_type": "markdown",
   "metadata": {},
   "source": [
    "## Assignments for Week-02"
   ]
  },
  {
   "cell_type": "markdown",
   "metadata": {},
   "source": [
    "In this course, we learnt what's the search problem and what's the machine leanring. In this assignment, we need you do some more practice."
   ]
  },
  {
   "cell_type": "markdown",
   "metadata": {},
   "source": [
    "### 1. Re-code the house price machine learning\n",
    "\n",
    "###### 1. Random Choose Method to get optimal *k* and *b*\n",
    "###### 2.Supervised Direction to get optimal *k* and *b*\n",
    "###### 3.Gradient Descent to get optimal *k* and *b*\n",
    "###### 4. Try different Loss function and learning rate. \n",
    "\n",
    "For example, you can change the loss function: $Loss = \\frac{1}{n} sum({y_i - \\hat{y_i}})^2$ to $Loss = \\frac{1}{n} sum(|{y_i - \\hat{y_i}}|)$\n",
    "\n",
    "And you can change the learning rate and observe the performance."
   ]
  },
  {
   "cell_type": "markdown",
   "metadata": {},
   "source": [
    "![](https://timgsa.baidu.com/timg?image&quality=80&size=b9999_10000&sec=1562414412237&di=8377c38d7b50c6f8d45b92ccc78dc1e7&imgtype=0&src=http%3A%2F%2Fmmbiz.qpic.cn%2Fmmbiz_jpg%2FlSyiavfm6wPgQDuDYa42IMgSkLOcPJU91RbkMibGy7VHLrhhNVLibTYk1iaLcmXKTdHc4icTDVia59QFXwqpW8cLflaw%2F640%3Fwx_fmt%3Djpeg)"
   ]
  },
  {
   "cell_type": "code",
   "execution_count": 1,
   "metadata": {},
   "outputs": [],
   "source": [
    "%matplotlib inline"
   ]
  },
  {
   "cell_type": "code",
   "execution_count": 2,
   "metadata": {},
   "outputs": [],
   "source": [
    "import matplotlib.pyplot as plt"
   ]
  },
  {
   "cell_type": "code",
   "execution_count": 3,
   "metadata": {},
   "outputs": [],
   "source": [
    "from sklearn.datasets import load_boston\n",
    "dataset = load_boston()"
   ]
  },
  {
   "cell_type": "code",
   "execution_count": 4,
   "metadata": {},
   "outputs": [],
   "source": [
    "X, y = dataset['data'], dataset['target']"
   ]
  },
  {
   "cell_type": "code",
   "execution_count": 39,
   "metadata": {},
   "outputs": [],
   "source": [
    "RM = X[:, 5]"
   ]
  },
  {
   "cell_type": "code",
   "execution_count": 6,
   "metadata": {},
   "outputs": [
    {
     "data": {
      "text/plain": [
       "<matplotlib.collections.PathCollection at 0x27c791e4860>"
      ]
     },
     "execution_count": 6,
     "metadata": {},
     "output_type": "execute_result"
    },
    {
     "data": {
      "image/png": "[encoded data removed]",
      "text/plain": [
       "<Figure size 432x288 with 1 Axes>"
      ]
     },
     "metadata": {
      "needs_background": "light"
     },
     "output_type": "display_data"
    }
   ],
   "source": [
    "plt.scatter(X[:, 5], y)"
   ]
  },
  {
   "cell_type": "code",
   "execution_count": 7,
   "metadata": {},
   "outputs": [],
   "source": [
    "import random\n",
    "import numpy as np"
   ]
  },
  {
   "cell_type": "code",
   "execution_count": 8,
   "metadata": {},
   "outputs": [],
   "source": [
    "def func(x, k, b):\n",
    "    return x*k + b"
   ]
  },
  {
   "cell_type": "code",
   "execution_count": 9,
   "metadata": {},
   "outputs": [],
   "source": [
    "def loss(y, y_hat):\n",
    "    return sum(abs(yi-yi_hat) for yi, yi_hat in zip(list(y), list(y_hat)))/len(list(y))"
   ]
  },
  {
   "cell_type": "code",
   "execution_count": 10,
   "metadata": {},
   "outputs": [],
   "source": [
    "def loss2(y, y_hat):\n",
    "    return  sum((y_i - y_hat)**2 for y_i, y_hat in zip(list(y), list(y_hat)))/len(list(y))"
   ]
  },
  {
   "cell_type": "code",
   "execution_count": null,
   "metadata": {},
   "outputs": [],
   "source": []
  },
  {
   "cell_type": "markdown",
   "metadata": {},
   "source": [
    "### Random Choose"
   ]
  },
  {
   "cell_type": "code",
   "execution_count": 11,
   "metadata": {},
   "outputs": [
    {
     "name": "stdout",
     "output_type": "stream",
     "text": [
      "use loss function abs:\n",
      "i=0, loss:371.53013833992105, k=74, b=-71\n",
      "i=1, loss:58.74426877470354, k=8, b=31\n",
      "i=6, loss:6.568217391304347, k=2, b=6\n",
      "i=228, loss:5.990326086956528, k=5, b=-6\n",
      "i=622, loss:5.148270750988143, k=13, b=-61\n",
      "i=1240, loss:4.559703557312254, k=10, b=-39\n",
      "i=2507, loss:4.487990118577073, k=11, b=-46\n",
      "use loss function **2:\n",
      "i=0, loss:227208.98830143877, k=68, b=70\n",
      "i=1, loss:136901.41177854344, k=-63, b=52\n",
      "i=3, loss:1198.3212674762842, k=-13, b=74\n",
      "i=9, loss:311.3488472332015, k=-10, b=76\n",
      "i=186, loss:83.51567795849796, k=1, b=19\n",
      "i=567, loss:77.63891532015812, k=4, b=2\n",
      "i=606, loss:45.53670096245059, k=11, b=-47\n"
     ]
    },
    {
     "data": {
      "image/png": "[encoded data removed]",
      "text/plain": [
       "<Figure size 432x288 with 1 Axes>"
      ]
     },
     "metadata": {
      "needs_background": "light"
     },
     "output_type": "display_data"
    }
   ],
   "source": [
    "def random_kb(RM, y, loss):\n",
    "    time = 3000\n",
    "    minloss = float('inf')\n",
    "    for i in range(time):\n",
    "        k = random.randint(-100, 100)\n",
    "        b = random.randint(-100, 100)\n",
    "        y_hat = [func(x, k, b) for x in RM]\n",
    "        l = loss(y, y_hat)\n",
    "        if l < minloss:\n",
    "            minloss = l\n",
    "            price = y_hat\n",
    "            print('i={}, loss:{}, k={}, b={}'.format(i,l,k,b))\n",
    "    plt.scatter(X[:, 5], y)\n",
    "    plt.scatter(RM, price)\n",
    "\n",
    "print(\"use loss function abs:\")    \n",
    "random_kb(RM, y, loss)   \n",
    "print(\"use loss function **2:\")    \n",
    "random_kb(RM, y, loss2)"
   ]
  },
  {
   "cell_type": "markdown",
   "metadata": {},
   "source": [
    "### Supervised Direction"
   ]
  },
  {
   "cell_type": "code",
   "execution_count": 68,
   "metadata": {},
   "outputs": [],
   "source": [
    "direction = [\n",
    "    (+1, +1),\n",
    "    (+1, -1),\n",
    "    (-1, -1),\n",
    "    (-1, +1),\n",
    "]\n",
    "\n",
    "def direction_kb(RM, y, loss):\n",
    "    time = 1000\n",
    "    scar = 1\n",
    "    minloss = float('inf')\n",
    "    k = random.randint(-100, 100)\n",
    "    b = random.randint(-100, 100)\n",
    "    current_direction = random.choice(direction)\n",
    "    for i in range(time):\n",
    "        k += current_direction[0]*scar\n",
    "        b += current_direction[1]*scar\n",
    "        y_hat = [func(x, k, b) for x in RM]\n",
    "        l = loss(y, y_hat)\n",
    "        if l < minloss:\n",
    "            minloss = l\n",
    "            price = y_hat\n",
    "            print('i={}, loss:{}, k={}, b={}'.format(i,l,k,b))\n",
    "        else:\n",
    "            old_direction = current_direction\n",
    "            while old_direction == current_direction:\n",
    "                current_direction = random.choice(direction)\n",
    "            \n",
    "    plt.scatter(X[:, 5], y)\n",
    "    plt.scatter(RM, price)\n"
   ]
  },
  {
   "cell_type": "code",
   "execution_count": 77,
   "metadata": {},
   "outputs": [
    {
     "name": "stdout",
     "output_type": "stream",
     "text": [
      "i=0, loss:309199.9154926723, k=-94, b=62\n",
      "i=4, loss:306998.7617377313, k=-94, b=64\n",
      "i=5, loss:298947.99360059854, k=-93, b=65\n",
      "i=6, loss:291004.34265021374, k=-92, b=66\n",
      "i=7, loss:283167.80888657505, k=-91, b=67\n",
      "i=8, loss:275438.3923096835, k=-90, b=68\n",
      "i=9, loss:267816.09291953925, k=-89, b=69\n",
      "i=10, loss:260300.91071614216, k=-88, b=70\n",
      "i=11, loss:252892.84569949206, k=-87, b=71\n",
      "i=12, loss:245591.8978695889, k=-86, b=72\n",
      "i=13, loss:238398.06722643264, k=-85, b=73\n",
      "i=14, loss:231311.3537700237, k=-84, b=74\n",
      "i=15, loss:224331.75750036168, k=-83, b=75\n",
      "i=16, loss:217459.27841744662, k=-82, b=76\n",
      "i=17, loss:210693.91652127862, k=-81, b=77\n",
      "i=18, loss:204035.67181185778, k=-80, b=78\n",
      "i=19, loss:197484.5442891837, k=-79, b=79\n",
      "i=20, loss:191040.533953257, k=-78, b=80\n",
      "i=21, loss:184703.64080407703, k=-77, b=81\n",
      "i=22, loss:178473.86484164422, k=-76, b=82\n",
      "i=23, loss:172351.20606595842, k=-75, b=83\n",
      "i=24, loss:166335.66447701966, k=-74, b=84\n",
      "i=25, loss:160427.24007482798, k=-73, b=85\n",
      "i=26, loss:154625.93285938335, k=-72, b=86\n",
      "i=27, loss:148931.74283068563, k=-71, b=87\n",
      "i=28, loss:143344.66998873514, k=-70, b=88\n",
      "i=29, loss:137864.71433353162, k=-69, b=89\n",
      "i=30, loss:132491.87586507516, k=-68, b=90\n",
      "i=31, loss:127226.15458336554, k=-67, b=91\n",
      "i=32, loss:122067.550488403, k=-66, b=92\n",
      "i=33, loss:117016.06358018762, k=-65, b=93\n",
      "i=34, loss:112071.69385871943, k=-64, b=94\n",
      "i=35, loss:107234.44132399806, k=-63, b=95\n",
      "i=36, loss:102504.30597602378, k=-62, b=96\n",
      "i=37, loss:97881.28781479647, k=-61, b=97\n",
      "i=38, loss:93365.38684031612, k=-60, b=98\n",
      "i=39, loss:88956.60305258294, k=-59, b=99\n",
      "i=40, loss:84654.93645159685, k=-58, b=100\n",
      "i=41, loss:80460.38703735766, k=-57, b=101\n",
      "i=42, loss:76372.95480986558, k=-56, b=102\n",
      "i=43, loss:72392.63976912056, k=-55, b=103\n",
      "i=44, loss:68519.44191512247, k=-54, b=104\n",
      "i=45, loss:64753.361247871566, k=-53, b=105\n",
      "i=46, loss:61094.397767367554, k=-52, b=106\n",
      "i=47, loss:57542.5514736107, k=-51, b=107\n",
      "i=48, loss:54097.822366600776, k=-50, b=108\n",
      "i=49, loss:50760.21044633792, k=-49, b=109\n",
      "i=50, loss:47529.71571282213, k=-48, b=110\n",
      "i=51, loss:44406.33816605336, k=-47, b=111\n",
      "i=52, loss:41390.07780603163, k=-46, b=112\n",
      "i=53, loss:38480.93463275694, k=-45, b=113\n",
      "i=54, loss:35678.90864622924, k=-44, b=114\n",
      "i=55, loss:32983.99984644861, k=-43, b=115\n",
      "i=56, loss:30396.208233415004, k=-42, b=116\n",
      "i=57, loss:27915.53380712847, k=-41, b=117\n",
      "i=58, loss:25541.976567588954, k=-40, b=118\n",
      "i=59, loss:23275.536514796466, k=-39, b=119\n",
      "i=60, loss:21116.213648750974, k=-38, b=120\n",
      "i=61, loss:19064.00796945258, k=-37, b=121\n",
      "i=62, loss:17118.919476901177, k=-36, b=122\n",
      "i=63, loss:15280.94817109686, k=-35, b=123\n",
      "i=64, loss:13550.094052039518, k=-34, b=124\n",
      "i=65, loss:11926.357119729246, k=-33, b=125\n",
      "i=66, loss:10409.737374166018, k=-32, b=126\n",
      "i=67, loss:9000.234815349802, k=-31, b=127\n",
      "i=68, loss:7697.849443280636, k=-30, b=128\n",
      "i=69, loss:6502.581257958488, k=-29, b=129\n",
      "i=70, loss:5414.430259383402, k=-28, b=130\n",
      "i=71, loss:4433.396447555337, k=-27, b=131\n",
      "i=72, loss:3559.47982247431, k=-26, b=132\n",
      "i=73, loss:2792.680384140318, k=-25, b=133\n",
      "i=74, loss:2132.9981325533595, k=-24, b=134\n",
      "i=75, loss:1580.433067713438, k=-23, b=135\n",
      "i=76, loss:1134.9851896205541, k=-22, b=136\n",
      "i=77, loss:796.6544982747037, k=-21, b=137\n",
      "i=78, loss:565.4409936758897, k=-20, b=138\n",
      "i=79, loss:441.344675824111, k=-19, b=139\n",
      "i=80, loss:424.36554471936745, k=-18, b=140\n"
     ]
    },
    {
     "data": {
      "image/png": "[encoded data removed]",
      "text/plain": [
       "<Figure size 432x288 with 1 Axes>"
      ]
     },
     "metadata": {
      "needs_background": "light"
     },
     "output_type": "display_data"
    }
   ],
   "source": [
    "direction_kb(RM, y, loss2)"
   ]
  },
  {
   "cell_type": "markdown",
   "metadata": {},
   "source": [
    "## 2. Answer following questions:\n",
    "\n",
    "\n",
    "###### 1. Why do we need machine learning methods instead of creating a complicated formula?\n"
   ]
  },
  {
   "cell_type": "markdown",
   "metadata": {},
   "source": [
    "Ans: "
   ]
  },
  {
   "cell_type": "markdown",
   "metadata": {},
   "source": [
    "###### 2.  Wha't's the disadvantages of `the 1st Random Choosen` methods in our course? "
   ]
  },
  {
   "cell_type": "markdown",
   "metadata": {},
   "source": [
    "Ans:"
   ]
  },
  {
   "cell_type": "markdown",
   "metadata": {},
   "source": [
    "###### 3. Is the `2nd method supervised direction` better than 1st one?  What's the disadvantages of `the 2nd supversied directin` method? "
   ]
  },
  {
   "cell_type": "markdown",
   "metadata": {},
   "source": [
    "Ans:"
   ]
  },
  {
   "cell_type": "markdown",
   "metadata": {},
   "source": [
    "###### 4. Why do we use `Derivative / Gredient` to fit a target function? "
   ]
  },
  {
   "cell_type": "markdown",
   "metadata": {},
   "source": [
    "Ans:"
   ]
  },
  {
   "cell_type": "markdown",
   "metadata": {},
   "source": [
    "###### 5. In the words 'Gredient Descent', what's the `Gredient` and what's the `Descent`?"
   ]
  },
  {
   "cell_type": "markdown",
   "metadata": {},
   "source": [
    "Ans:"
   ]
  },
  {
   "cell_type": "markdown",
   "metadata": {},
   "source": [
    "###### 6. What's the advantages of `the 3rd gradient descent method` compared to the previous methods?"
   ]
  },
  {
   "cell_type": "markdown",
   "metadata": {},
   "source": [
    "Ans:"
   ]
  },
  {
   "cell_type": "markdown",
   "metadata": {},
   "source": [
    "###### 7. Using the simple words to describe: What's the machine leanring."
   ]
  },
  {
   "cell_type": "markdown",
   "metadata": {},
   "source": [
    "Ans:"
   ]
  },
  {
   "cell_type": "markdown",
   "metadata": {},
   "source": [
    "## 3. Finish the search problem"
   ]
  },
  {
   "cell_type": "markdown",
   "metadata": {},
   "source": [
    "Please using the search policy to implement an agent. This agent receives two input, one is @param start station and the other is @param destination. Your agent should give the optimal route based on Beijing Subway system. "
   ]
  },
  {
   "cell_type": "markdown",
   "metadata": {},
   "source": [
    "> Deadline: 2019-July-13\n",
    "\n",
    ">Submit: Submit the source code and result to github. \n",
    "\n"
   ]
  },
  {
   "cell_type": "markdown",
   "metadata": {},
   "source": [
    "![](https://timgsa.baidu.com/timg?image&quality=80&size=b9999_10000&sec=1562414356407&di=b57814aafd215bb8b8d9d8cd37c573d6&imgtype=0&src=http%3A%2F%2Fcli.clewm.net%2Ffile%2F2015%2F03%2F24%2F174ed60082b8422ac0636cfd3efb9e7f.jpg)"
   ]
  },
  {
   "cell_type": "markdown",
   "metadata": {},
   "source": [
    "#### Dataflow: "
   ]
  },
  {
   "cell_type": "markdown",
   "metadata": {},
   "source": [
    "##### 1.\tGet data from web page.\n",
    "\n",
    "> a.\tGet web page source from: https://baike.baidu.com/item/%E5%8C%97%E4%BA%AC%E5%9C%B0%E9%93%81/408485\n",
    "\n",
    "> b.\tYou may need @package **requests**[https://2.python-requests.org/en/master/] page to get the response via url\n",
    "\n",
    "> c.\tYou may need save the page source to file system.\n",
    "\n",
    "> d.\tThe target of this step is to get station information of all the subway lines;\n",
    "\n",
    "> e.\tYou may need install @package beautiful soup[https://www.crummy.com/software/BeautifulSoup/bs4/doc/]  to get the url information, or just use > Regular Expression to get the url.  Our recommendation is that using the Regular Expression and BeautiflSoup both. \n",
    "\n",
    "> f.\tYou may need BFS to get all the related page url from one url. \n",
    "Question: Why do we use BFS to traverse web page (or someone said, build a web spider)?  Can DFS do this job? which is better? "
   ]
  },
  {
   "cell_type": "code",
   "execution_count": null,
   "metadata": {},
   "outputs": [],
   "source": []
  },
  {
   "cell_type": "markdown",
   "metadata": {},
   "source": [
    "## 百度百科 北京地铁 "
   ]
  },
  {
   "cell_type": "code",
   "execution_count": 14,
   "metadata": {},
   "outputs": [],
   "source": [
    "import requests\n",
    "from bs4 import BeautifulSoup\n",
    "url = 'https://baike.baidu.com/item/%E5%8C%97%E4%BA%AC%E5%9C%B0%E9%93%81/408485'\n",
    "myheader = {\n",
    "    'User-Agent':'Mozilla/5.0 (Windows NT 10.0; Win64; x64) AppleWebKit/537.36 (KHTML, like Gecko) Chrome/74.0.3729.169 Safari/537.36'\n",
    "}\n",
    "r = requests.get(url, headers = myheader)\n",
    "r.encoding = 'gb2312'\n",
    "html_contents = r.content\n",
    "html_soup = BeautifulSoup(html_contents, \"html.parser\")"
   ]
  },
  {
   "cell_type": "code",
   "execution_count": 15,
   "metadata": {},
   "outputs": [],
   "source": [
    "line_table =  html_soup.find_all('table', {\"log-set-param\":\"table_view\", \"data-sort\":\"sortDisabled\"})\n",
    "line_table = str(line_table)\n"
   ]
  },
  {
   "cell_type": "code",
   "execution_count": 16,
   "metadata": {},
   "outputs": [],
   "source": [
    "import re"
   ]
  },
  {
   "cell_type": "code",
   "execution_count": 17,
   "metadata": {},
   "outputs": [],
   "source": [
    "content = line_table\n",
    "pattern = re.compile('<td.*?width=\"204\".*?>.*?<a.*?href=\"(.*?)\".*?>(.*?)</a>.*?</td>', re.S)\n",
    "results = re.findall(pattern, content)"
   ]
  },
  {
   "cell_type": "code",
   "execution_count": 18,
   "metadata": {},
   "outputs": [],
   "source": [
    "subway_line_url = {}\n",
    "for line in results:\n",
    "#     if line[1] in subway_line_url.keys() and :\n",
    "#         line = list(line)\n",
    "#         line[1] = line[1]+'(other)'\n",
    "    subway_line_url[line[1]] = 'https://baike.baidu.com' + line[0]"
   ]
  },
  {
   "cell_type": "code",
   "execution_count": 19,
   "metadata": {},
   "outputs": [
    {
     "data": {
      "text/plain": [
       "{'北京地铁1号线': 'https://baike.baidu.com/item/%E5%8C%97%E4%BA%AC%E5%9C%B0%E9%93%811%E5%8F%B7%E7%BA%BF',\n",
       " '北京地铁2号线': 'https://baike.baidu.com/item/%E5%8C%97%E4%BA%AC%E5%9C%B0%E9%93%812%E5%8F%B7%E7%BA%BF',\n",
       " '北京地铁4号线': 'https://baike.baidu.com/item/%E5%8C%97%E4%BA%AC%E5%9C%B0%E9%93%814%E5%8F%B7%E7%BA%BF',\n",
       " '北京地铁5号线': 'https://baike.baidu.com/item/%E5%8C%97%E4%BA%AC%E5%9C%B0%E9%93%815%E5%8F%B7%E7%BA%BF',\n",
       " '北京地铁6号线': 'https://baike.baidu.com/item/%E5%8C%97%E4%BA%AC%E5%9C%B0%E9%93%816%E5%8F%B7%E7%BA%BF',\n",
       " '北京地铁7号线': 'https://baike.baidu.com/item/%E5%8C%97%E4%BA%AC%E5%9C%B0%E9%93%817%E5%8F%B7%E7%BA%BF',\n",
       " '北京地铁8号线': 'https://baike.baidu.com/item/%E5%8C%97%E4%BA%AC%E5%9C%B0%E9%93%818%E5%8F%B7%E7%BA%BF/897830',\n",
       " '北京地铁9号线': 'https://baike.baidu.com/item/%E5%8C%97%E4%BA%AC%E5%9C%B0%E9%93%819%E5%8F%B7%E7%BA%BF',\n",
       " '北京地铁10号线': 'https://baike.baidu.com/item/%E5%8C%97%E4%BA%AC%E5%9C%B0%E9%93%8110%E5%8F%B7%E7%BA%BF',\n",
       " '北京地铁13号线': 'https://baike.baidu.com/item/%E5%8C%97%E4%BA%AC%E5%9C%B0%E9%93%8113%E5%8F%B7%E7%BA%BF',\n",
       " '北京地铁14号线': 'https://baike.baidu.com/item/%E5%8C%97%E4%BA%AC%E5%9C%B0%E9%93%8114%E5%8F%B7%E7%BA%BF',\n",
       " '北京地铁15号线': 'https://baike.baidu.com/item/%E5%8C%97%E4%BA%AC%E5%9C%B0%E9%93%8115%E5%8F%B7%E7%BA%BF',\n",
       " '北京地铁16号线': 'https://baike.baidu.com/item/%E5%8C%97%E4%BA%AC%E5%9C%B0%E9%93%8116%E5%8F%B7%E7%BA%BF',\n",
       " '北京地铁八通线': 'https://baike.baidu.com/item/%E5%8C%97%E4%BA%AC%E5%9C%B0%E9%93%81%E5%85%AB%E9%80%9A%E7%BA%BF',\n",
       " '北京地铁昌平线': 'https://baike.baidu.com/item/%E5%8C%97%E4%BA%AC%E5%9C%B0%E9%93%81%E6%98%8C%E5%B9%B3%E7%BA%BF',\n",
       " '北京地铁亦庄线': 'https://baike.baidu.com/item/%E5%8C%97%E4%BA%AC%E5%9C%B0%E9%93%81%E4%BA%A6%E5%BA%84%E7%BA%BF',\n",
       " '北京地铁房山线': 'https://baike.baidu.com/item/%E5%8C%97%E4%BA%AC%E5%9C%B0%E9%93%81%E6%88%BF%E5%B1%B1%E7%BA%BF',\n",
       " '北京地铁S1线': 'https://baike.baidu.com/item/%E5%8C%97%E4%BA%AC%E5%9C%B0%E9%93%81S1%E7%BA%BF',\n",
       " '北京地铁燕房线': 'https://baike.baidu.com/item/%E5%8C%97%E4%BA%AC%E5%9C%B0%E9%93%81%E7%87%95%E6%88%BF%E7%BA%BF'}"
      ]
     },
     "execution_count": 19,
     "metadata": {},
     "output_type": "execute_result"
    }
   ],
   "source": [
    "subway_line_url # 这是各地铁线路的页面链接"
   ]
  },
  {
   "cell_type": "markdown",
   "metadata": {},
   "source": [
    "$$百度百科不好做，没规律$$"
   ]
  },
  {
   "cell_type": "code",
   "execution_count": null,
   "metadata": {},
   "outputs": [],
   "source": []
  },
  {
   "cell_type": "code",
   "execution_count": null,
   "metadata": {},
   "outputs": [],
   "source": []
  },
  {
   "cell_type": "markdown",
   "metadata": {},
   "source": [
    "## 北京地铁官网"
   ]
  },
  {
   "cell_type": "code",
   "execution_count": 20,
   "metadata": {},
   "outputs": [
    {
     "name": "stderr",
     "output_type": "stream",
     "text": [
      "D:\\Pycharm\\Anaconda3\\lib\\site-packages\\urllib3\\connectionpool.py:847: InsecureRequestWarning: Unverified HTTPS request is being made. Adding certificate verification is strongly advised. See: https://urllib3.readthedocs.io/en/latest/advanced-usage.html#ssl-warnings\n",
      "  InsecureRequestWarning)\n"
     ]
    },
    {
     "data": {
      "text/plain": [
       "22"
      ]
     },
     "execution_count": 20,
     "metadata": {},
     "output_type": "execute_result"
    }
   ],
   "source": [
    "# def get_line_stations(line_url):\n",
    "BJsubway = 'https://www.bjsubway.com/e/action/ListInfo/?classid=39&ph=1'    \n",
    "r = requests.get(BJsubway, verify=False)\n",
    "\n",
    "html_contents = r.content\n",
    "html_soup = BeautifulSoup(html_contents, \"html.parser\")\n",
    "line_content =  html_soup.find_all('div',attrs={\"class\":\"line_content\"}) # 这个 div 里是线路的首末班车时刻表\n",
    "line_content = str(line_content)\n",
    "\n",
    "content = line_content\n",
    "pattern = re.compile('<table.*?>(.+?)</table>',re.S)  # 每个 table 表示一条线路\n",
    "results = re.findall(pattern, content)\n",
    "\n",
    "len(results)\n",
    "# "
   ]
  },
  {
   "cell_type": "code",
   "execution_count": 21,
   "metadata": {},
   "outputs": [],
   "source": [
    "line_station = {}\n",
    "for res in results:\n",
    "    line = re.findall('<td.colspan.*?>\\s*?(\\S*?)首末车时刻表</td>', res)\n",
    "    pattern = re.compile('<tbody>.*?</tbody>',re.S)\n",
    "    station = re.findall(pattern ,res)\n",
    "    pattern = re.compile('<tr>.*?<th.*?>(.*?)</th>.*?</tr>',re.S)\n",
    "    station = re.findall(pattern, station[0])\n",
    "    line_station[line[0]] = [s.strip() for s in station]"
   ]
  },
  {
   "cell_type": "code",
   "execution_count": 22,
   "metadata": {},
   "outputs": [
    {
     "name": "stdout",
     "output_type": "stream",
     "text": [
      "1号线\n",
      "['苹果园', '古城', '八角游乐园', '八宝山', '玉泉路', '五棵松', '万寿路', '公主坟', '军事博物馆', '木樨地', '南礼士路', '复兴门', '西单', '天安门西', '天安门东', '王府井', '东单', '建国门', '永安里', '国贸', '大望路', '四惠', '四惠东']\n",
      "\n"
     ]
    }
   ],
   "source": [
    "# 线路以字典的形式存储 line : { stations...}  下面输出看看存储的效果\n",
    "for key in line_station:   \n",
    "    print(key)\n",
    "    print(line_station[key])\n",
    "    print()\n",
    "    break # 以一号线为例子哈"
   ]
  },
  {
   "cell_type": "code",
   "execution_count": null,
   "metadata": {},
   "outputs": [],
   "source": []
  },
  {
   "cell_type": "markdown",
   "metadata": {},
   "source": [
    "##### 2.\tPreprocessing data from page source.\n",
    "\n",
    "> a.\tBased on the page source gotten from url. You may need some more preprocessing of the page. \n",
    "\n",
    "> b.\tthe Regular Expression you may need to process the text information.\n",
    "\n",
    "> c.\tYou may need @package networkx, @package matplotlib to visualize data. \n",
    "\n",
    "> d.\tYou should build a dictionary or graph which could represent the connection information of Beijing subway routes. \n",
    "\n",
    "> e.\tYou may need the defaultdict, set data structures to implement this procedure. "
   ]
  },
  {
   "cell_type": "code",
   "execution_count": 23,
   "metadata": {},
   "outputs": [],
   "source": [
    "from collections import defaultdict\n",
    "\n",
    "station_connection = defaultdict(list)  # 站点连接关系"
   ]
  },
  {
   "cell_type": "code",
   "execution_count": 24,
   "metadata": {},
   "outputs": [],
   "source": [
    "def get_station_connections(line_station):\n",
    "    for key in line_station:\n",
    "        for i in range(len(line_station[key])-1):    \n",
    "            station1 = line_station[key][i]\n",
    "            station2 = line_station[key][i+1]\n",
    "            station_connection[station1].append(station2)\n",
    "            station_connection[station2].append(station1)\n",
    "                \n",
    "get_station_connections(line_station)"
   ]
  },
  {
   "cell_type": "code",
   "execution_count": 25,
   "metadata": {},
   "outputs": [
    {
     "data": {
      "text/plain": [
       "defaultdict(list,\n",
       "            {'苹果园': ['古城', '金安桥', '杨庄'],\n",
       "             '古城': ['苹果园', '八角游乐园'],\n",
       "             '八角游乐园': ['古城', '八宝山'],\n",
       "             '八宝山': ['八角游乐园', '玉泉路'],\n",
       "             '玉泉路': ['八宝山', '五棵松'],\n",
       "             '五棵松': ['玉泉路', '万寿路'],\n",
       "             '万寿路': ['五棵松', '公主坟'],\n",
       "             '公主坟': ['万寿路', '军事博物馆', '莲花桥', '西钓鱼台'],\n",
       "             '军事博物馆': ['公主坟', '木樨地', '北京西站', '白堆子'],\n",
       "             '木樨地': ['军事博物馆', '南礼士路'],\n",
       "             '南礼士路': ['木樨地', '复兴门'],\n",
       "             '复兴门': ['南礼士路', '西单', '长椿街', '阜成门'],\n",
       "             '西单': ['复兴门', '天安门西', '宣武门', '灵境胡同'],\n",
       "             '天安门西': ['西单', '天安门东'],\n",
       "             '天安门东': ['天安门西', '王府井'],\n",
       "             '王府井': ['天安门东', '东单'],\n",
       "             '东单': ['王府井', '建国门', '崇文门', '灯市口'],\n",
       "             '建国门': ['东单', '永安里', '朝阳门', '北京站'],\n",
       "             '永安里': ['建国门', '国贸'],\n",
       "             '国贸': ['永安里', '大望路', '金台夕照', '双井'],\n",
       "             '大望路': ['国贸', '四惠', '九龙山', '金台路'],\n",
       "             '四惠': ['大望路', '四惠东', '四惠东'],\n",
       "             '四惠东': ['四惠', '四惠', '高碑店'],\n",
       "             '西直门': ['积水潭', '新街口', '动物园', '大钟寺'],\n",
       "             '积水潭': ['西直门', '鼓楼大街'],\n",
       "             '鼓楼大街': ['积水潭', '安定门', '安德里北街', '什刹海'],\n",
       "             '安定门': ['鼓楼大街', '雍和宫'],\n",
       "             '雍和宫': ['安定门', '东直门', '北新桥', '和平里北街'],\n",
       "             '东直门': ['雍和宫', '东四十条', '柳芳'],\n",
       "             '东四十条': ['东直门', '朝阳门'],\n",
       "             '朝阳门': ['东四十条', '建国门', '东四', '东大桥'],\n",
       "             '北京站': ['建国门', '崇文门'],\n",
       "             '崇文门': ['北京站', '前门', '磁器口', '东单'],\n",
       "             '前门': ['崇文门', '和平门'],\n",
       "             '和平门': ['前门', '宣武门'],\n",
       "             '宣武门': ['和平门', '长椿街', '菜市口', '西单'],\n",
       "             '长椿街': ['宣武门', '复兴门'],\n",
       "             '阜成门': ['复兴门', '车公庄'],\n",
       "             '车公庄': ['阜成门', '车公庄西', '平安里'],\n",
       "             '天宫院': ['生物医院基地'],\n",
       "             '生物医院基地': ['天宫院', '义和庄'],\n",
       "             '义和庄': ['生物医院基地', '黄村火车站'],\n",
       "             '黄村火车站': ['义和庄', '黄村西大街'],\n",
       "             '黄村西大街': ['黄村火车站', '清源路'],\n",
       "             '清源路': ['黄村西大街', '枣园'],\n",
       "             '枣园': ['清源路', '高米店南'],\n",
       "             '高米店南': ['枣园', '高米店北'],\n",
       "             '高米店北': ['高米店南', '西红门'],\n",
       "             '西红门': ['高米店北', '新宫'],\n",
       "             '新宫': ['西红门', '公益西桥'],\n",
       "             '公益西桥': ['新宫', '角门西'],\n",
       "             '角门西': ['公益西桥', '马家堡', '角门东', '草桥'],\n",
       "             '马家堡': ['角门西', '北京南站'],\n",
       "             '北京南站': ['马家堡', '陶然亭', '永定门外'],\n",
       "             '陶然亭': ['北京南站', '菜市口'],\n",
       "             '菜市口': ['陶然亭', '宣武门', '广安门内', '虎坊桥'],\n",
       "             '灵境胡同': ['西单', '西四'],\n",
       "             '西四': ['灵境胡同', '平安里'],\n",
       "             '平安里': ['西四', '新街口', '车公庄', '北海北'],\n",
       "             '新街口': ['平安里', '西直门'],\n",
       "             '动物园': ['西直门', '国家图书馆'],\n",
       "             '国家图书馆': ['动物园', '魏公村', '白石桥南'],\n",
       "             '魏公村': ['国家图书馆', '人民大学'],\n",
       "             '人民大学': ['魏公村', '海淀黄庄'],\n",
       "             '海淀黄庄': ['人民大学', '中关村', '苏州街', '知春里'],\n",
       "             '中关村': ['海淀黄庄', '北京大学东门'],\n",
       "             '北京大学东门': ['中关村', '圆明园'],\n",
       "             '圆明园': ['北京大学东门', '西苑'],\n",
       "             '西苑': ['圆明园', '北宫门', '农大南路'],\n",
       "             '北宫门': ['西苑', '安河桥北'],\n",
       "             '安河桥北': ['北宫门'],\n",
       "             '宋家庄': ['刘家窑', '成寿寺', '石榴庄', '肖村'],\n",
       "             '刘家窑': ['宋家庄', '蒲黄榆'],\n",
       "             '蒲黄榆': ['刘家窑', '天坛东门', '景泰', '方庄'],\n",
       "             '天坛东门': ['蒲黄榆', '磁器口'],\n",
       "             '磁器口': ['天坛东门', '崇文门', '桥湾', '广渠门内'],\n",
       "             '灯市口': ['东单', '东四'],\n",
       "             '东四': ['灯市口', '张自忠路', '南锣鼓巷', '朝阳门'],\n",
       "             '张自忠路': ['东四', '北新桥'],\n",
       "             '北新桥': ['张自忠路', '雍和宫'],\n",
       "             '和平里北街': ['雍和宫', '和平西桥'],\n",
       "             '和平西桥': ['和平里北街', '惠新西街南口'],\n",
       "             '惠新西街南口': ['和平西桥', '惠新西街北口'],\n",
       "             '惠新西街北口': ['惠新西街南口', '大屯路东'],\n",
       "             '大屯路东': ['惠新西街北口', '北苑路北', '关庄', '安立路'],\n",
       "             '北苑路北': ['大屯路东', '立水桥南'],\n",
       "             '立水桥南': ['北苑路北', '立水桥'],\n",
       "             '立水桥': ['立水桥南', '天通苑南', '霍营', '北苑'],\n",
       "             '天通苑南': ['立水桥', '天通苑'],\n",
       "             '天通苑': ['天通苑南', '天通苑北'],\n",
       "             '天通苑北': ['天通苑'],\n",
       "             '金安桥': ['苹果园', '四道桥'],\n",
       "             '杨庄': ['苹果园', '西黄村'],\n",
       "             '西黄村': ['杨庄', '廖公庄'],\n",
       "             '廖公庄': ['西黄村', '田村'],\n",
       "             '田村': ['廖公庄', '海淀五路居'],\n",
       "             '海淀五路居': ['田村', '慈寿寺'],\n",
       "             '慈寿寺': ['海淀五路居', '花园桥', '西钓鱼台', '车道沟'],\n",
       "             '花园桥': ['慈寿寺', '白石桥南'],\n",
       "             '白石桥南': ['花园桥', '车公庄西', '白堆子', '国家图书馆'],\n",
       "             '车公庄西': ['白石桥南', '车公庄'],\n",
       "             '北海北': ['平安里', '南锣鼓巷'],\n",
       "             '南锣鼓巷': ['北海北', '东四', '什刹海', '中国美术馆'],\n",
       "             '东大桥': ['朝阳门', '呼家楼'],\n",
       "             '呼家楼': ['东大桥', '金台路', '团结湖', '金台夕照'],\n",
       "             '金台路': ['呼家楼', '十里堡', '大望路', '朝阳公园'],\n",
       "             '十里堡': ['金台路', '青年路'],\n",
       "             '青年路': ['十里堡', '褡裢坡'],\n",
       "             '褡裢坡': ['青年路', '黄渠'],\n",
       "             '黄渠': ['褡裢坡', '常营'],\n",
       "             '常营': ['黄渠', '草房'],\n",
       "             '草房': ['常营', '物资学院路'],\n",
       "             '物资学院路': ['草房', '通州北关'],\n",
       "             '通州北关': ['物资学院路', '通运门'],\n",
       "             '通运门': ['通州北关', '北运河西'],\n",
       "             '北运河西': ['通运门', '北运河东'],\n",
       "             '北运河东': ['北运河西', '郝家府'],\n",
       "             '郝家府': ['北运河东', '东夏园'],\n",
       "             '东夏园': ['郝家府', '潞城'],\n",
       "             '潞城': ['东夏园'],\n",
       "             '北京西站': ['湾子', '六里桥东', '军事博物馆'],\n",
       "             '湾子': ['北京西站', '达官营'],\n",
       "             '达官营': ['湾子', '广安门内'],\n",
       "             '广安门内': ['达官营', '菜市口'],\n",
       "             '虎坊桥': ['菜市口', '珠市口'],\n",
       "             '珠市口': ['虎坊桥', '桥湾', '天桥'],\n",
       "             '桥湾': ['珠市口', '磁器口'],\n",
       "             '广渠门内': ['磁器口', '广渠门外'],\n",
       "             '广渠门外': ['广渠门内', '双井'],\n",
       "             '双井': ['广渠门外', '九龙山', '国贸', '劲松'],\n",
       "             '九龙山': ['双井', '大郊亭', '平乐园', '大望路'],\n",
       "             '大郊亭': ['九龙山', '百子湾'],\n",
       "             '百子湾': ['大郊亭', '化工'],\n",
       "             '化工': ['百子湾', '南楼梓庄'],\n",
       "             '南楼梓庄': ['化工', '欢乐谷景区'],\n",
       "             '欢乐谷景区': ['南楼梓庄', '垡头'],\n",
       "             '垡头': ['欢乐谷景区', '双合'],\n",
       "             '双合': ['垡头', '焦化厂'],\n",
       "             '焦化厂': ['双合'],\n",
       "             '朱辛庄': ['育知路', '巩华城', '生命科学园'],\n",
       "             '育知路': ['朱辛庄', '平西府'],\n",
       "             '平西府': ['育知路', '回龙观东大街'],\n",
       "             '回龙观东大街': ['平西府', '霍营'],\n",
       "             '霍营': ['回龙观东大街', '育新', '回龙观', '立水桥'],\n",
       "             '育新': ['霍营', '西小口'],\n",
       "             '西小口': ['育新', '永泰庄'],\n",
       "             '永泰庄': ['西小口', '林萃桥'],\n",
       "             '林萃桥': ['永泰庄', '森林公园南门'],\n",
       "             '森林公园南门': ['林萃桥', '奥林匹克公园'],\n",
       "             '奥林匹克公园': ['森林公园南门', '奥体中心', '安立路', '北沙滩'],\n",
       "             '奥体中心': ['奥林匹克公园', '北土城'],\n",
       "             '北土城': ['奥体中心', '安华桥', '健德门', '安贞门'],\n",
       "             '安华桥': ['北土城', '安德里北街'],\n",
       "             '安德里北街': ['安华桥', '鼓楼大街'],\n",
       "             '什刹海': ['鼓楼大街', '南锣鼓巷'],\n",
       "             '中国美术馆': ['南锣鼓巷'],\n",
       "             '瀛海': ['德茂'],\n",
       "             '德茂': ['瀛海', '五福堂'],\n",
       "             '五福堂': ['德茂', '火箭万源'],\n",
       "             '火箭万源': ['五福堂', '东高地'],\n",
       "             '东高地': ['火箭万源', '和义'],\n",
       "             '和义': ['东高地', '大红门南'],\n",
       "             '大红门南': ['和义', '大红门'],\n",
       "             '大红门': ['大红门南', '海户屯', '石榴庄', '角门东'],\n",
       "             '海户屯': ['大红门', '木樨园'],\n",
       "             '木樨园': ['海户屯', '永定门外'],\n",
       "             '永定门外': ['木樨园', '天桥', '北京南站', '景泰'],\n",
       "             '天桥': ['永定门外', '珠市口'],\n",
       "             '郭公庄': ['丰台科技园', '大葆台'],\n",
       "             '丰台科技园': ['郭公庄', '科怡路'],\n",
       "             '科怡路': ['丰台科技园', '丰台南路'],\n",
       "             '丰台南路': ['科怡路', '丰台东大街'],\n",
       "             '丰台东大街': ['丰台南路', '七里庄'],\n",
       "             '七里庄': ['丰台东大街', '六里桥', '大井', '西局'],\n",
       "             '六里桥': ['七里庄', '六里桥东', '西局', '莲花桥'],\n",
       "             '六里桥东': ['六里桥', '北京西站'],\n",
       "             '白堆子': ['军事博物馆', '白石桥南'],\n",
       "             '巴沟': ['苏州街'],\n",
       "             '苏州街': ['巴沟', '海淀黄庄'],\n",
       "             '知春里': ['海淀黄庄', '知春路'],\n",
       "             '知春路': ['知春里', '西土城', '大钟寺', '五道口'],\n",
       "             '西土城': ['知春路', '牡丹园'],\n",
       "             '牡丹园': ['西土城', '健德门'],\n",
       "             '健德门': ['牡丹园', '北土城'],\n",
       "             '安贞门': ['北土城', '惠新西街<br/>南口'],\n",
       "             '惠新西街<br/>南口': ['安贞门', '芍药居'],\n",
       "             '芍药居': ['惠新西街<br/>南口', '太阳宫', '望京西', '光熙门'],\n",
       "             '太阳宫': ['芍药居', '三元桥'],\n",
       "             '三元桥': ['太阳宫', '亮马桥'],\n",
       "             '亮马桥': ['三元桥', '农业展览馆'],\n",
       "             '农业展览馆': ['亮马桥', '团结湖'],\n",
       "             '团结湖': ['农业展览馆', '呼家楼'],\n",
       "             '金台夕照': ['呼家楼', '国贸'],\n",
       "             '劲松': ['双井', '潘家园'],\n",
       "             '潘家园': ['劲松', '十里河'],\n",
       "             '十里河': ['潘家园', '分钟寺', '方庄', '北工大西门'],\n",
       "             '分钟寺': ['十里河', '成寿寺'],\n",
       "             '成寿寺': ['分钟寺', '宋家庄'],\n",
       "             '石榴庄': ['宋家庄', '大红门'],\n",
       "             '角门东': ['大红门', '角门西'],\n",
       "             '草桥': ['角门西', '纪家庙'],\n",
       "             '纪家庙': ['草桥', '首经贸'],\n",
       "             '首经贸': ['纪家庙', '丰台站'],\n",
       "             '丰台站': ['首经贸', '泥洼'],\n",
       "             '泥洼': ['丰台站', '西局'],\n",
       "             '西局': ['泥洼', '六里桥', '七里庄'],\n",
       "             '莲花桥': ['六里桥', '公主坟'],\n",
       "             '西钓鱼台': ['公主坟', '慈寿寺'],\n",
       "             '车道沟': ['慈寿寺', '长春桥'],\n",
       "             '长春桥': ['车道沟', '火器营'],\n",
       "             '火器营': ['长春桥'],\n",
       "             '大钟寺': ['西直门', '知春路'],\n",
       "             '五道口': ['知春路', '上地'],\n",
       "             '上地': ['五道口', '西二旗'],\n",
       "             '西二旗': ['上地', '龙泽', '生命科学园'],\n",
       "             '龙泽': ['西二旗', '回龙观'],\n",
       "             '回龙观': ['龙泽', '霍营'],\n",
       "             '北苑': ['立水桥', '望京西'],\n",
       "             '望京西': ['北苑', '芍药居', '望京', '关庄'],\n",
       "             '光熙门': ['芍药居', '柳芳'],\n",
       "             '柳芳': ['光熙门', '东直门'],\n",
       "             '张郭庄': ['园博园'],\n",
       "             '园博园': ['张郭庄', '大瓦窑'],\n",
       "             '大瓦窑': ['园博园', '郭庄子'],\n",
       "             '郭庄子': ['大瓦窑', '大井'],\n",
       "             '大井': ['郭庄子', '七里庄'],\n",
       "             '景泰': ['永定门外', '蒲黄榆'],\n",
       "             '方庄': ['蒲黄榆', '十里河'],\n",
       "             '北工大西门': ['十里河', '平乐园'],\n",
       "             '平乐园': ['北工大西门', '九龙山'],\n",
       "             '朝阳公园': ['金台路', '枣营'],\n",
       "             '枣营': ['朝阳公园', '东风北桥'],\n",
       "             '东风北桥': ['枣营', '将台'],\n",
       "             '将台': ['东风北桥', '望京南'],\n",
       "             '望京南': ['将台', '阜通'],\n",
       "             '阜通': ['望京南', '望京'],\n",
       "             '望京': ['阜通', '东湖渠', '望京东', '望京西'],\n",
       "             '东湖渠': ['望京', '来广营'],\n",
       "             '来广营': ['东湖渠', '善各庄'],\n",
       "             '善各庄': ['来广营'],\n",
       "             '俸伯': ['顺义'],\n",
       "             '顺义': ['俸伯', '石门'],\n",
       "             '石门': ['顺义', '南法信'],\n",
       "             '南法信': ['石门', '后沙峪'],\n",
       "             '后沙峪': ['南法信', '花梨坎'],\n",
       "             '花梨坎': ['后沙峪', '国展'],\n",
       "             '国展': ['花梨坎', '孙河'],\n",
       "             '孙河': ['国展', '马泉营'],\n",
       "             '马泉营': ['孙河', '崔各庄'],\n",
       "             '崔各庄': ['马泉营', '望京东'],\n",
       "             '望京东': ['崔各庄', '望京'],\n",
       "             '关庄': ['望京西', '大屯路东'],\n",
       "             '安立路': ['大屯路东', '奥林匹克公园'],\n",
       "             '北沙滩': ['奥林匹克公园', '六道口'],\n",
       "             '六道口': ['北沙滩', '清华东路西口'],\n",
       "             '清华东路西口': ['六道口'],\n",
       "             '农大南路': ['西苑', '马连洼'],\n",
       "             '马连洼': ['农大南路', '西北旺'],\n",
       "             '西北旺': ['马连洼', '永丰南'],\n",
       "             '永丰南': ['西北旺', '永丰'],\n",
       "             '永丰': ['永丰南', '屯佃'],\n",
       "             '屯佃': ['永丰', '稻香湖路'],\n",
       "             '稻香湖路': ['屯佃', '温阳路'],\n",
       "             '温阳路': ['稻香湖路', '北安河'],\n",
       "             '北安河': ['温阳路'],\n",
       "             '高碑店': ['四惠东', '传媒大学'],\n",
       "             '传媒大学': ['高碑店', '双桥'],\n",
       "             '双桥': ['传媒大学', '管庄'],\n",
       "             '管庄': ['双桥', '八里桥'],\n",
       "             '八里桥': ['管庄', '通州北苑'],\n",
       "             '通州北苑': ['八里桥', '果园'],\n",
       "             '果园': ['通州北苑', '九棵树'],\n",
       "             '九棵树': ['果园', '梨园'],\n",
       "             '梨园': ['九棵树', '临河里'],\n",
       "             '临河里': ['梨园', '土桥'],\n",
       "             '土桥': ['临河里'],\n",
       "             '昌平西山口': ['十三陵景区'],\n",
       "             '十三陵景区': ['昌平西山口', '昌平'],\n",
       "             '昌平': ['十三陵景区', '昌平东关'],\n",
       "             '昌平东关': ['昌平', '北邵洼'],\n",
       "             '北邵洼': ['昌平东关', '南邵'],\n",
       "             '南邵': ['北邵洼', '沙河高教园'],\n",
       "             '沙河高教园': ['南邵', '沙河'],\n",
       "             '沙河': ['沙河高教园', '巩华城'],\n",
       "             '巩华城': ['沙河', '朱辛庄'],\n",
       "             '生命科学园': ['朱辛庄', '西二旗'],\n",
       "             '肖村': ['宋家庄', '小红门'],\n",
       "             '小红门': ['肖村', '旧宫'],\n",
       "             '旧宫': ['小红门', '亦庄桥'],\n",
       "             '亦庄桥': ['旧宫', '亦庄文化园'],\n",
       "             '亦庄文化园': ['亦庄桥', '万源街'],\n",
       "             '万源街': ['亦庄文化园', '荣京东街'],\n",
       "             '荣京东街': ['万源街', '荣昌东街'],\n",
       "             '荣昌东街': ['荣京东街', '同济南路'],\n",
       "             '同济南路': ['荣昌东街', '经海路'],\n",
       "             '经海路': ['同济南路', '次渠南'],\n",
       "             '次渠南': ['经海路', '次渠'],\n",
       "             '次渠': ['次渠南', '亦庄火车站'],\n",
       "             '亦庄火车站': ['次渠'],\n",
       "             '大葆台': ['郭公庄', '稻田'],\n",
       "             '稻田': ['大葆台', '长阳'],\n",
       "             '长阳': ['稻田', '篱笆房'],\n",
       "             '篱笆房': ['长阳', '广阳城'],\n",
       "             '广阳城': ['篱笆房', '良乡大学城北'],\n",
       "             '良乡大学城北': ['广阳城', '良乡大学城'],\n",
       "             '良乡大学城': ['良乡大学城北', '良乡大学城西'],\n",
       "             '良乡大学城西': ['良乡大学城', '良乡南关'],\n",
       "             '良乡南关': ['良乡大学城西', '苏庄'],\n",
       "             '苏庄': ['良乡南关', '阎村东'],\n",
       "             '阎村东': ['苏庄', '紫草坞'],\n",
       "             '四道桥': ['金安桥', '桥户营'],\n",
       "             '桥户营': ['四道桥', '上岸'],\n",
       "             '上岸': ['桥户营', '栗园庄'],\n",
       "             '栗园庄': ['上岸', '小园'],\n",
       "             '小园': ['栗园庄', '石厂'],\n",
       "             '石厂': ['小园'],\n",
       "             '紫草坞': ['阎村东', '阎村'],\n",
       "             '阎村': ['紫草坞', '星城'],\n",
       "             '星城': ['阎村', '大石河东'],\n",
       "             '大石河东': ['星城', '马各庄'],\n",
       "             '马各庄': ['大石河东', '饶乐府'],\n",
       "             '饶乐府': ['马各庄', '房山城关'],\n",
       "             '房山城关': ['饶乐府', '燕山'],\n",
       "             '燕山': ['房山城关']})"
      ]
     },
     "execution_count": 25,
     "metadata": {},
     "output_type": "execute_result"
    }
   ],
   "source": [
    "station_connection # 各站点的连接关系"
   ]
  },
  {
   "cell_type": "code",
   "execution_count": null,
   "metadata": {},
   "outputs": [],
   "source": []
  },
  {
   "cell_type": "code",
   "execution_count": 26,
   "metadata": {},
   "outputs": [],
   "source": [
    "%matplotlib inline"
   ]
  },
  {
   "cell_type": "code",
   "execution_count": 27,
   "metadata": {},
   "outputs": [],
   "source": [
    "import networkx as nx\n",
    "import matplotlib.pyplot as plt\n",
    "plt.rcParams['font.sans-serif'] = ['SimHei.ttf']\n",
    "plt.rcParams['axes.unicode_minus'] = False"
   ]
  },
  {
   "cell_type": "code",
   "execution_count": 28,
   "metadata": {},
   "outputs": [],
   "source": [
    "station = list(station_connection.keys())"
   ]
  },
  {
   "cell_type": "code",
   "execution_count": 29,
   "metadata": {},
   "outputs": [],
   "source": [
    "graph = nx.Graph(station_connection)\n",
    "# graph.add_nodes_from(station)"
   ]
  },
  {
   "cell_type": "code",
   "execution_count": 30,
   "metadata": {},
   "outputs": [
    {
     "name": "stderr",
     "output_type": "stream",
     "text": [
      "D:\\Pycharm\\Anaconda3\\lib\\site-packages\\networkx\\drawing\\nx_pylab.py:611: MatplotlibDeprecationWarning: isinstance(..., numbers.Number)\n",
      "  if cb.is_numlike(alpha):\n",
      "D:\\Pycharm\\Anaconda3\\lib\\site-packages\\matplotlib\\font_manager.py:1241: UserWarning: findfont: Font family ['sans-serif'] not found. Falling back to DejaVu Sans.\n",
      "  (prop.get_family(), self.defaultFamily[fontext]))\n"
     ]
    },
    {
     "data": {
      "image/png": "[encoded data removed]",
      "text/plain": [
       "<Figure size 432x288 with 1 Axes>"
      ]
     },
     "metadata": {},
     "output_type": "display_data"
    }
   ],
   "source": [
    "nx.draw(graph, with_labels=True, node_size=10)"
   ]
  },
  {
   "cell_type": "code",
   "execution_count": null,
   "metadata": {},
   "outputs": [],
   "source": []
  },
  {
   "cell_type": "markdown",
   "metadata": {},
   "source": [
    "##### 3. Build the search agent\n",
    "\n",
    "> Build the search agent based on the graph we build.\n",
    "\n",
    "for example, when you run: \n",
    "\n",
    "```python\n",
    ">>> search('奥体中心', '天安门') \n",
    "```\n",
    "you need get the result: \n",
    "\n",
    "奥体中心-> A -> B -> C -> ... -> 天安门\n",
    "\n"
   ]
  },
  {
   "cell_type": "code",
   "execution_count": 31,
   "metadata": {},
   "outputs": [],
   "source": [
    "def pretty_print(path):\n",
    "    string = ''\n",
    "    for station in path:\n",
    "        string = string + station + '->'\n",
    "    print(string[:-2])\n",
    "    print()"
   ]
  },
  {
   "cell_type": "code",
   "execution_count": 32,
   "metadata": {},
   "outputs": [],
   "source": [
    "def search(graph, start, goal, search_strategy):\n",
    "    queue = [[start]] # 看看和经典的广度优先有什么不一样的 ^-^\n",
    "    visited = set()\n",
    "    paths = []\n",
    "    while queue:\n",
    "        path = queue.pop(0)\n",
    "        city = path[-1]\n",
    "        if city in visited: continue\n",
    "        for c in graph[city]:\n",
    "            path_new = path+[c]\n",
    "            if path_new[-1]==goal: paths.append(path_new)\n",
    "            queue.append(path_new)\n",
    "        visited.add(city)\n",
    "    paths = search_strategy(paths)\n",
    "    return paths   "
   ]
  },
  {
   "cell_type": "code",
   "execution_count": 33,
   "metadata": {},
   "outputs": [],
   "source": [
    "# eg："
   ]
  },
  {
   "cell_type": "code",
   "execution_count": 34,
   "metadata": {},
   "outputs": [],
   "source": [
    "paths = search(station_connection, '慈寿寺', '军事博物馆', search_strategy=lambda n: n)"
   ]
  },
  {
   "cell_type": "code",
   "execution_count": 35,
   "metadata": {},
   "outputs": [
    {
     "name": "stdout",
     "output_type": "stream",
     "text": [
      "慈寿寺->西钓鱼台->公主坟->军事博物馆\n",
      "\n",
      "慈寿寺->花园桥->白石桥南->白堆子->军事博物馆\n",
      "\n",
      "慈寿寺->西钓鱼台->公主坟->军事博物馆->木樨地->军事博物馆\n",
      "\n",
      "慈寿寺->西钓鱼台->公主坟->军事博物馆->北京西站->军事博物馆\n",
      "\n"
     ]
    }
   ],
   "source": [
    "for path in paths:\n",
    "    pretty_print(path)"
   ]
  },
  {
   "cell_type": "code",
   "execution_count": null,
   "metadata": {},
   "outputs": [],
   "source": []
  },
  {
   "cell_type": "markdown",
   "metadata": {},
   "source": [
    "## （Optional）Create different policies for transfer system.\n"
   ]
  },
  {
   "cell_type": "markdown",
   "metadata": {},
   "source": [
    "以下部门为可选部分，请酌情完成。 并不要求全部同学完成。"
   ]
  },
  {
   "cell_type": "markdown",
   "metadata": {},
   "source": [
    "As much as you can to use the already implemented search agent. You just need to define the **is_goal()**, **get_successor()**, **strategy()** three functions. \n",
    "\n",
    "> a.\tDefine different policies for transfer system. \n",
    "\n",
    "> b.\tSuch as Shortest Path Priority（路程最短优先）, Minimum Transfer Priority(最少换乘优先), Comprehensive Priority(综合优先)\n",
    "\n",
    "> c.\tImplement Continuous transfer. Based on the Agent you implemented, please add this feature: Besides the @param start and @param destination two stations, add some more stations, we called @param by_way, it means, our path should from the start and end, but also include the  @param by_way stations. \n",
    "\n",
    "e.g \n",
    "```\n",
    "1. Input:  start=A,  destination=B, by_way=[C] \n",
    "    Output: [A, … .., C, …. B]\n",
    "2. Input: start=A, destination=B, by_way=[C, D, E]\n",
    "    Output: [A … C … E … D … B]  \n",
    "    # based on your policy, the E station could be reached firstly. \n",
    "![image.png](attachment:image.png)\n",
    "```"
   ]
  },
  {
   "cell_type": "markdown",
   "metadata": {},
   "source": [
    "##### 5.\tTest your result with commercial applications. \n",
    "\n",
    "将你的结果和高德地图或者百度地图进行比较，如果有不同，请分析原因\n"
   ]
  },
  {
   "cell_type": "markdown",
   "metadata": {},
   "source": [
    "恭喜，完成本次课程，你对常用的人工智能方法以及有一定的了解了。基于规则的，基于概率模型的，基于搜索的，基于机器学习的。 可以说，我们现在通常见到的方法都能够归属到这几类方法中。 这就是**人工智能**，并没有很难是吧？ 继续加油！"
   ]
  },
  {
   "cell_type": "markdown",
   "metadata": {},
   "source": [
    "![](https://timgsa.baidu.com/timg?image&quality=80&size=b9999_10000&sec=1562415163815&di=4b29a2a863a8285212033760f288ed7a&imgtype=0&src=http%3A%2F%2F5b0988e595225.cdn.sohucs.com%2Fimages%2F20180710%2F8704194a1d7f46a383ddc29d40c9bca5.jpeg)"
   ]
  }
 ],
 "metadata": {
  "kernelspec": {
   "display_name": "Python 3",
   "language": "python",
   "name": "python3"
  },
  "language_info": {
   "codemirror_mode": {
    "name": "ipython",
    "version": 3
   },
   "file_extension": ".py",
   "mimetype": "text/x-python",
   "name": "python",
   "nbconvert_exporter": "python",
   "pygments_lexer": "ipython3",
   "version": "3.7.3"
  }
 },
 "nbformat": 4,
 "nbformat_minor": 2
}
